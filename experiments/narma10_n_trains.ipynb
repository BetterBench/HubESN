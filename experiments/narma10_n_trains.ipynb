{
 "cells": [
  {
   "cell_type": "code",
   "execution_count": 5,
   "metadata": {
    "ExecuteTime": {
     "end_time": "2023-11-05T09:38:38.424826200Z",
     "start_time": "2023-11-05T09:38:37.895953600Z"
    }
   },
   "outputs": [
    {
     "name": "stdout",
     "output_type": "stream",
     "text": [
      "The autoreload extension is already loaded. To reload it, use:\n",
      "  %reload_ext autoreload\n"
     ]
    }
   ],
   "source": [
    "%load_ext autoreload\n",
    "%autoreload 2\n",
    "\n",
    "import sys\n",
    "# sys.path.append('../')\n",
    "\n",
    "import numpy as np\n",
    "import seaborn as sns\n",
    "import matplotlib.pyplot as plt\n",
    "from sklearn.manifold import TSNE\n",
    "from mpl_toolkits.axes_grid1.inset_locator import zoomed_inset_axes, inset_axes, mark_inset\n",
    "\n",
    "from esn_lib.esn import *\n",
    "from esn_lib.hubesn import *\n",
    "from esn_tasks.narma10.narma10 import *\n",
    "from esn_tasks.mackey_glass.mackey import *"
   ]
  },
  {
   "cell_type": "code",
   "execution_count": 6,
   "metadata": {
    "ExecuteTime": {
     "end_time": "2023-11-05T09:38:43.872547Z",
     "start_time": "2023-11-05T09:38:43.747644900Z"
    }
   },
   "outputs": [],
   "source": [
    "params = {\n",
    "    'lr': 0.5,\n",
    "    'p2': 0.2,\n",
    "    'r_sig': 0.1,\n",
    "    'n_size': 1000,\n",
    "    'spec_rad': 0.9,\n",
    "    'in_features': 1,\n",
    "    'in_scale': 1,\n",
    "    'activation': 'tanh',\n",
    "    'input_neurons': 'hub',\n",
    "    'hub_type': 'mix',\n",
    "    'use_skip': False,\n",
    "    'verbose': False,\n",
    "    'lambda_dc': 0.5,\n",
    "    'lambda_sc': 0.5,\n",
    "    'exp_coef': 2,\n",
    "}"
   ]
  },
  {
   "cell_type": "code",
   "execution_count": 7,
   "metadata": {
    "ExecuteTime": {
     "end_time": "2023-11-05T09:39:20.465076400Z",
     "start_time": "2023-11-05T09:38:46.504659800Z"
    }
   },
   "outputs": [
    {
     "name": "stdout",
     "output_type": "stream",
     "text": [
      "3000, 0, 0.062007077568904216, 0.06226637709393496, 0.06181796658094367\n"
     ]
    },
    {
     "ename": "KeyboardInterrupt",
     "evalue": "",
     "output_type": "error",
     "traceback": [
      "\u001B[1;31m---------------------------------------------------------------------------\u001B[0m",
      "\u001B[1;31mKeyboardInterrupt\u001B[0m                         Traceback (most recent call last)",
      "Cell \u001B[1;32mIn[7], line 21\u001B[0m\n\u001B[0;32m     18\u001B[0m hubesn_rmse\u001B[38;5;241m.\u001B[39mappend(task\u001B[38;5;241m.\u001B[39mrmse(y_pred, task\u001B[38;5;241m.\u001B[39my_test))\n\u001B[0;32m     20\u001B[0m pm[\u001B[38;5;124m'\u001B[39m\u001B[38;5;124minput_neurons\u001B[39m\u001B[38;5;124m'\u001B[39m] \u001B[38;5;241m=\u001B[39m \u001B[38;5;124m'\u001B[39m\u001B[38;5;124mrand\u001B[39m\u001B[38;5;124m'\u001B[39m\n\u001B[1;32m---> 21\u001B[0m esn \u001B[38;5;241m=\u001B[39m HubESN(\u001B[38;5;241m*\u001B[39m\u001B[38;5;241m*\u001B[39mpm)\n\u001B[0;32m     22\u001B[0m esn\u001B[38;5;241m.\u001B[39mfit(task\u001B[38;5;241m.\u001B[39mX_train, task\u001B[38;5;241m.\u001B[39my_train)\n\u001B[0;32m     23\u001B[0m y_pred, _ \u001B[38;5;241m=\u001B[39m esn\u001B[38;5;241m.\u001B[39mpredict(task\u001B[38;5;241m.\u001B[39mX_test)\n",
      "File \u001B[1;32mD:\\投稿\\Code_HubESN\\HubESN\\esn_lib\\hubesn.py:28\u001B[0m, in \u001B[0;36mHubESN.__init__\u001B[1;34m(self, **kwargs)\u001B[0m\n\u001B[0;32m     25\u001B[0m \u001B[38;5;28mself\u001B[39m\u001B[38;5;241m.\u001B[39m_generate_wir()\n\u001B[0;32m     26\u001B[0m \u001B[38;5;28mself\u001B[39m\u001B[38;5;241m.\u001B[39m_generate_wir_mask()\n\u001B[1;32m---> 28\u001B[0m \u001B[38;5;28;43mself\u001B[39;49m\u001B[38;5;241;43m.\u001B[39;49m\u001B[43m_apply_spec_rad\u001B[49m\u001B[43m(\u001B[49m\u001B[43m)\u001B[49m\n",
      "File \u001B[1;32mD:\\投稿\\Code_HubESN\\HubESN\\esn_lib\\esn_base.py:162\u001B[0m, in \u001B[0;36mESNBase._apply_spec_rad\u001B[1;34m(self)\u001B[0m\n\u001B[0;32m    158\u001B[0m \u001B[38;5;250m\u001B[39m\u001B[38;5;124;03m\"\"\"\u001B[39;00m\n\u001B[0;32m    159\u001B[0m \u001B[38;5;124;03mSet the spectral radius of the recurrent weight matrix\u001B[39;00m\n\u001B[0;32m    160\u001B[0m \u001B[38;5;124;03m\"\"\"\u001B[39;00m\n\u001B[0;32m    161\u001B[0m \u001B[38;5;66;03m# set the spectral radius\u001B[39;00m\n\u001B[1;32m--> 162\u001B[0m \u001B[38;5;28;01mif\u001B[39;00m \u001B[38;5;28mself\u001B[39m\u001B[38;5;241m.\u001B[39mspec_rad \u001B[38;5;241m!=\u001B[39m \u001B[38;5;241m-\u001B[39m\u001B[38;5;241m1\u001B[39m: \u001B[38;5;28mself\u001B[39m\u001B[38;5;241m.\u001B[39mW_rc \u001B[38;5;241m=\u001B[39m \u001B[38;5;28mself\u001B[39m\u001B[38;5;241m.\u001B[39mW_rc \u001B[38;5;241m*\u001B[39m \u001B[38;5;28mself\u001B[39m\u001B[38;5;241m.\u001B[39mspec_rad \u001B[38;5;241m/\u001B[39m np\u001B[38;5;241m.\u001B[39mmax(np\u001B[38;5;241m.\u001B[39mabs(\u001B[43mnp\u001B[49m\u001B[38;5;241;43m.\u001B[39;49m\u001B[43mlinalg\u001B[49m\u001B[38;5;241;43m.\u001B[39;49m\u001B[43meigvals\u001B[49m\u001B[43m(\u001B[49m\u001B[38;5;28;43mself\u001B[39;49m\u001B[38;5;241;43m.\u001B[39;49m\u001B[43mW_rc\u001B[49m\u001B[43m)\u001B[49m))\n",
      "File \u001B[1;32mD:\\Users\\82331\\anaconda3\\envs\\py39\\lib\\site-packages\\numpy\\linalg\\linalg.py:1074\u001B[0m, in \u001B[0;36meigvals\u001B[1;34m(a)\u001B[0m\n\u001B[0;32m   1071\u001B[0m extobj \u001B[38;5;241m=\u001B[39m get_linalg_error_extobj(\n\u001B[0;32m   1072\u001B[0m     _raise_linalgerror_eigenvalues_nonconvergence)\n\u001B[0;32m   1073\u001B[0m signature \u001B[38;5;241m=\u001B[39m \u001B[38;5;124m'\u001B[39m\u001B[38;5;124mD->D\u001B[39m\u001B[38;5;124m'\u001B[39m \u001B[38;5;28;01mif\u001B[39;00m isComplexType(t) \u001B[38;5;28;01melse\u001B[39;00m \u001B[38;5;124m'\u001B[39m\u001B[38;5;124md->D\u001B[39m\u001B[38;5;124m'\u001B[39m\n\u001B[1;32m-> 1074\u001B[0m w \u001B[38;5;241m=\u001B[39m \u001B[43m_umath_linalg\u001B[49m\u001B[38;5;241;43m.\u001B[39;49m\u001B[43meigvals\u001B[49m\u001B[43m(\u001B[49m\u001B[43ma\u001B[49m\u001B[43m,\u001B[49m\u001B[43m \u001B[49m\u001B[43msignature\u001B[49m\u001B[38;5;241;43m=\u001B[39;49m\u001B[43msignature\u001B[49m\u001B[43m,\u001B[49m\u001B[43m \u001B[49m\u001B[43mextobj\u001B[49m\u001B[38;5;241;43m=\u001B[39;49m\u001B[43mextobj\u001B[49m\u001B[43m)\u001B[49m\n\u001B[0;32m   1076\u001B[0m \u001B[38;5;28;01mif\u001B[39;00m \u001B[38;5;129;01mnot\u001B[39;00m isComplexType(t):\n\u001B[0;32m   1077\u001B[0m     \u001B[38;5;28;01mif\u001B[39;00m \u001B[38;5;28mall\u001B[39m(w\u001B[38;5;241m.\u001B[39mimag \u001B[38;5;241m==\u001B[39m \u001B[38;5;241m0\u001B[39m):\n",
      "\u001B[1;31mKeyboardInterrupt\u001B[0m: "
     ]
    }
   ],
   "source": [
    "n_trains = np.arange(3000, 3200, 100)\n",
    "n_test = 2000\n",
    "repeat = 100\n",
    "for nt in n_trains:\n",
    "    task_pm = {\n",
    "        'n_train': nt,\n",
    "        'n_test': n_test,\n",
    "    }\n",
    "    task = NARMA10(**task_pm)\n",
    "    hubesn_rmse, rand_rmse, peri_rmse, esn_rmse = [], [], [], []\n",
    "    for i in range(repeat):\n",
    "        pm = params.copy()\n",
    "\n",
    "        pm['input_neurons'] = 'hub'\n",
    "        esn = HubESN(**pm)\n",
    "        esn.fit(task.X_train, task.y_train)\n",
    "        y_pred, _ = esn.predict(task.X_test)\n",
    "        hubesn_rmse.append(task.rmse(y_pred, task.y_test))\n",
    "\n",
    "        pm['input_neurons'] = 'rand'\n",
    "        esn = HubESN(**pm)\n",
    "        esn.fit(task.X_train, task.y_train)\n",
    "        y_pred, _ = esn.predict(task.X_test)\n",
    "        rand_rmse.append(task.rmse(y_pred, task.y_test))\n",
    "\n",
    "        # pm['input_neurons'] = 'peri'\n",
    "        # esn = HubESN(**pm)\n",
    "        # esn.fit(task.X_train, task.y_train)\n",
    "        # y_pred, _ = esn.predict(task.X_test)\n",
    "        # peri_rmse.append(task.rmse(y_pred, task.y_test))\n",
    "\n",
    "        pm['input_neurons'] = 'rand'\n",
    "        esn = ESN(**pm)\n",
    "        esn.fit(task.X_train, task.y_train)\n",
    "        y_pred, _ = esn.predict(task.X_test)\n",
    "        esn_rmse.append(task.rmse(y_pred, task.y_test))\n",
    "\n",
    "        print(f\"{nt}, {i}, {esn_rmse[-1]}, {rand_rmse[-1]}, {hubesn_rmse[-1]}\")\n",
    "        \n",
    "    task_name = 'narma10'\n",
    "    # np.save(f'../results/{task_name}/n_train_peri_1000/hubesn_rmse_{nt}.npy', np.array(peri_rmse))\n",
    "    np.save(f'../results/{task_name}/n_train_rand_1000/hubesn_rmse_{nt}.npy', np.array(rand_rmse))\n",
    "    np.save(f'../results/{task_name}/n_train_hub_1000/hubesn_rmse_{nt}.npy', np.array(hubesn_rmse))\n",
    "    np.save(f'../results/{task_name}/n_train_peri_1000/esn_rmse_{nt}.npy', np.array(esn_rmse))\n",
    "    np.save(f'../results/{task_name}/n_train_rand_1000/esn_rmse_{nt}.npy', np.array(esn_rmse))\n",
    "    np.save(f'../results/{task_name}/n_train_hub_1000/esn_rmse_{nt}.npy', np.array(esn_rmse))"
   ]
  },
  {
   "cell_type": "code",
   "execution_count": null,
   "metadata": {},
   "outputs": [],
   "source": [
    "from esn_tasks.mnist.mnist_28 import *"
   ]
  },
  {
   "cell_type": "code",
   "execution_count": null,
   "metadata": {},
   "outputs": [],
   "source": [
    "params = {\n",
    "    'lr': 0.5,\n",
    "    'p2': 0.2,\n",
    "    'r_sig': 0.1,\n",
    "    'n_size': 500,\n",
    "    'spec_rad': 0.9,\n",
    "    'in_features': 28,\n",
    "    'in_scale': 1,\n",
    "    'activation': 'tanh',\n",
    "    'input_neurons': 'hub',\n",
    "    'hub_type': 'mix',\n",
    "    'use_skip': False,\n",
    "    'verbose': False,\n",
    "    'lambda_dc': 0.5,\n",
    "    'lambda_sc': 0.5,\n",
    "    'exp_coef': 2,\n",
    "}"
   ]
  },
  {
   "cell_type": "code",
   "execution_count": null,
   "metadata": {},
   "outputs": [],
   "source": [
    "# 500 - 8500\n",
    "n_trains = np.arange(20500, 60000, 2000)\n",
    "n_test = 3000\n",
    "repeat = 10\n",
    "for nt in n_trains:\n",
    "    task_pm = {\n",
    "        'n_train': nt,\n",
    "        'n_test': n_test,\n",
    "    }\n",
    "    task = MNIST28(**task_pm)\n",
    "    hubesn_rmse, rand_rmse, peri_rmse, esn_rmse = [], [], [], []\n",
    "    for i in range(repeat):\n",
    "        pm = params.copy()\n",
    "\n",
    "        pm['input_neurons'] = 'hub'\n",
    "        esn = HubESN(**pm)\n",
    "        esn.fit(task.X_train, task.y_train)\n",
    "        y_pred, _ = esn.predict(task.X_test)\n",
    "        hubesn_rmse.append(task.eval(y_pred, task.y_test))\n",
    "\n",
    "        pm['input_neurons'] = 'rand'\n",
    "        esn = HubESN(**pm)\n",
    "        esn.fit(task.X_train, task.y_train)\n",
    "        y_pred, _ = esn.predict(task.X_test)\n",
    "        rand_rmse.append(task.eval(y_pred, task.y_test))\n",
    "\n",
    "        # pm['input_neurons'] = 'peri'\n",
    "        # esn = HubESN(**pm)\n",
    "        # esn.fit(task.X_train, task.y_train)\n",
    "        # y_pred, _ = esn.predict(task.X_test)\n",
    "        # peri_rmse.append(task.eval(y_pred, task.y_test))\n",
    "\n",
    "        pm['input_neurons'] = 'rand'\n",
    "        esn = ESN(**pm)\n",
    "        esn.fit(task.X_train, task.y_train)\n",
    "        y_pred, _ = esn.predict(task.X_test)\n",
    "        esn_rmse.append(task.eval(y_pred, task.y_test))\n",
    "\n",
    "        print(f\"{nt}, {i}, {esn_rmse[-1]}, {rand_rmse[-1]}, {hubesn_rmse[-1]}\")\n",
    "    \n",
    "    task_name = 'mnist'\n",
    "    # np.save(f'../results/{task_name}/n_train_peri_1000/hubesn_rmse_{nt}.npy', np.array(peri_rmse))\n",
    "    np.save(f\"../results/{task_name}/n_train_rand_{params['n_size']}/hubesn_rmse_{nt}.npy\", np.array(rand_rmse))\n",
    "    np.save(f\"../results/{task_name}/n_train_hub_{params['n_size']}/hubesn_rmse_{nt}.npy\", np.array(hubesn_rmse))\n",
    "    # np.save(f'../results/{task_name}/n_train_peri_1000/esn_rmse_{nt}.npy', np.array(esn_rmse))\n",
    "    np.save(f\"../results/{task_name}/n_train_rand_{params['n_size']}/esn_rmse_{nt}.npy\", np.array(esn_rmse))\n",
    "    np.save(f\"../results/{task_name}/n_train_hub_{params['n_size']}/esn_rmse_{nt}.npy\", np.array(esn_rmse))"
   ]
  },
  {
   "cell_type": "code",
   "execution_count": 12,
   "metadata": {},
   "outputs": [],
   "source": [
    "params = {\n",
    "    'lr': 0.5,\n",
    "    'p2': 0.2,\n",
    "    'r_sig': 0.1,\n",
    "    'n_size': 1000,\n",
    "    'spec_rad': 0.9,\n",
    "    'in_features': 1,\n",
    "    'in_scale': 1,\n",
    "    'activation': 'tanh',\n",
    "    'input_neurons': 'hub',\n",
    "    'hub_type': 'mix',\n",
    "    'use_skip': False,\n",
    "    'verbose': False,\n",
    "    'lambda_dc': 0.5,\n",
    "    'lambda_sc': 0.5,\n",
    "    'exp_coef': 2,\n",
    "}"
   ]
  },
  {
   "cell_type": "code",
   "execution_count": 26,
   "metadata": {},
   "outputs": [],
   "source": [
    "n_trains = np.arange(600, 2700, 100)\n",
    "n_test = 2000\n",
    "repeat = 100\n",
    "for nt in n_trains:\n",
    "    task_pm = {\n",
    "        'n_train': nt,\n",
    "        'n_test': n_test,\n",
    "    }\n",
    "    task = MackeyGlass(**task_pm)\n",
    "    hubesn_rmse, rand_rmse, peri_rmse, esn_rmse = [], [], [], []\n",
    "    for i in range(repeat):\n",
    "        pm = params.copy()\n",
    "\n",
    "        pm['input_neurons'] = 'hub'\n",
    "        esn = HubESN(**pm)\n",
    "        esn.fit(task.X_train, task.y_train)\n",
    "        y_pred, _ = esn.predict(task.X_test)\n",
    "        hubesn_rmse.append(task.rmse(y_pred, task.y_test))\n",
    "\n",
    "        pm['input_neurons'] = 'rand'\n",
    "        esn = HubESN(**pm)\n",
    "        esn.fit(task.X_train, task.y_train)\n",
    "        y_pred, _ = esn.predict(task.X_test)\n",
    "        rand_rmse.append(task.rmse(y_pred, task.y_test))\n",
    "\n",
    "        pm['input_neurons'] = 'peri'\n",
    "        esn = HubESN(**pm)\n",
    "        esn.fit(task.X_train, task.y_train)\n",
    "        y_pred, _ = esn.predict(task.X_test)\n",
    "        peri_rmse.append(task.rmse(y_pred, task.y_test))\n",
    "\n",
    "        pm['input_neurons'] = 'rand'\n",
    "        esn = ESN(**pm)\n",
    "        esn.fit(task.X_train, task.y_train)\n",
    "        y_pred, _ = esn.predict(task.X_test)\n",
    "        esn_rmse.append(task.rmse(y_pred, task.y_test))\n",
    "        \n",
    "    task_name = 'mackey'\n",
    "    np.save(f'../results/{task_name}/n_train_peri/hubesn_rmse_{nt}.npy', np.array(peri_rmse))\n",
    "    np.save(f'../results/{task_name}/n_train_rand/hubesn_rmse_{nt}.npy', np.array(rand_rmse))\n",
    "    np.save(f'../results/{task_name}/n_train_hub/hubesn_rmse_{nt}.npy', np.array(hubesn_rmse))\n",
    "    np.save(f'../results/{task_name}/n_train_peri/esn_rmse_{nt}.npy', np.array(esn_rmse))\n",
    "    np.save(f'../results/{task_name}/n_train_rand/esn_rmse_{nt}.npy', np.array(esn_rmse))\n",
    "    np.save(f'../results/{task_name}/n_train_hub/esn_rmse_{nt}.npy', np.array(esn_rmse))"
   ]
  },
  {
   "cell_type": "code",
   "execution_count": 13,
   "metadata": {},
   "outputs": [],
   "source": [
    "params = {\n",
    "    'lr': 0.5,\n",
    "    'p2': 0.2,\n",
    "    'r_sig': 0.1,\n",
    "    'n_size': 1000,\n",
    "    'spec_rad': 0.9,\n",
    "    'in_features': 1,\n",
    "    'in_scale': 1,\n",
    "    'activation': 'tanh',\n",
    "    'input_neurons': 'hub',\n",
    "    'hub_type': 'mix',\n",
    "    'use_skip': False,\n",
    "    'verbose': False,\n",
    "    'lambda_dc': 0.5,\n",
    "    'lambda_sc': 0.5,\n",
    "    'exp_coef': 2,\n",
    "}"
   ]
  },
  {
   "cell_type": "code",
   "execution_count": 20,
   "metadata": {},
   "outputs": [
    {
     "name": "stdout",
     "output_type": "stream",
     "text": [
      "Start training... 4500\n",
      "1, ESN: 0.00314345, HubESN: 0.00314495, RandESN: 0.00314766\n",
      "2, ESN: 0.00253212, HubESN: 0.00351894, RandESN: 0.00329310\n",
      "3, ESN: 0.00217969, HubESN: 0.00352194, RandESN: 0.00419708\n",
      "4, ESN: 0.00294176, HubESN: 0.00339352, RandESN: 0.00310875\n",
      "5, ESN: 0.00274082, HubESN: 0.00303078, RandESN: 0.00288418\n",
      "6, ESN: 0.00333021, HubESN: 0.00308055, RandESN: 0.00278194\n",
      "7, ESN: 0.00265512, HubESN: 0.00351076, RandESN: 0.00289465\n",
      "8, ESN: 0.00314313, HubESN: 0.00366312, RandESN: 0.00381521\n",
      "9, ESN: 0.00293620, HubESN: 0.00220420, RandESN: 0.00442132\n",
      "10, ESN: 0.00314514, HubESN: 0.00303717, RandESN: 0.00337258\n",
      "11, ESN: 0.00325667, HubESN: 0.00381901, RandESN: 0.00334233\n",
      "12, ESN: 0.00309040, HubESN: 0.00263393, RandESN: 0.00232768\n",
      "13, ESN: 0.00280267, HubESN: 0.00291868, RandESN: 0.00370832\n",
      "14, ESN: 0.00387850, HubESN: 0.00362283, RandESN: 0.00280309\n",
      "15, ESN: 0.00273155, HubESN: 0.00271943, RandESN: 0.00381976\n",
      "16, ESN: 0.00316343, HubESN: 0.00338943, RandESN: 0.00269739\n",
      "17, ESN: 0.00350737, HubESN: 0.00344942, RandESN: 0.00283236\n",
      "18, ESN: 0.00434424, HubESN: 0.00242961, RandESN: 0.00318510\n",
      "19, ESN: 0.00362635, HubESN: 0.00316526, RandESN: 0.00304829\n",
      "20, ESN: 0.00307260, HubESN: 0.00388280, RandESN: 0.00475452\n",
      "21, ESN: 0.00332993, HubESN: 0.00325045, RandESN: 0.00233779\n",
      "22, ESN: 0.00260365, HubESN: 0.00334789, RandESN: 0.00323245\n",
      "23, ESN: 0.00290245, HubESN: 0.00370659, RandESN: 0.00478306\n",
      "24, ESN: 0.00291798, HubESN: 0.00223094, RandESN: 0.00444109\n",
      "25, ESN: 0.00213068, HubESN: 0.00278503, RandESN: 0.00355704\n",
      "26, ESN: 0.00347720, HubESN: 0.00361787, RandESN: 0.00251989\n",
      "27, ESN: 0.00331994, HubESN: 0.00221191, RandESN: 0.00256557\n",
      "28, ESN: 0.00355399, HubESN: 0.00350703, RandESN: 0.00304027\n",
      "29, ESN: 0.00301565, HubESN: 0.00317488, RandESN: 0.00319588\n",
      "30, ESN: 0.00315784, HubESN: 0.00319525, RandESN: 0.00423777\n",
      "31, ESN: 0.00286834, HubESN: 0.00273396, RandESN: 0.00295362\n",
      "32, ESN: 0.00345531, HubESN: 0.00357270, RandESN: 0.00294590\n",
      "33, ESN: 0.00302521, HubESN: 0.00425016, RandESN: 0.00273666\n",
      "34, ESN: 0.00367112, HubESN: 0.00362445, RandESN: 0.00360858\n",
      "35, ESN: 0.00387478, HubESN: 0.00226165, RandESN: 0.00209105\n",
      "36, ESN: 0.00296178, HubESN: 0.00351702, RandESN: 0.00331447\n"
     ]
    },
    {
     "ename": "KeyboardInterrupt",
     "evalue": "",
     "output_type": "error",
     "traceback": [
      "\u001B[0;31m---------------------------------------------------------------------------\u001B[0m",
      "\u001B[0;31mKeyboardInterrupt\u001B[0m                         Traceback (most recent call last)",
      "Cell \u001B[0;32mIn[20], line 24\u001B[0m\n\u001B[1;32m     21\u001B[0m pm \u001B[39m=\u001B[39m params\u001B[39m.\u001B[39mcopy()\n\u001B[1;32m     23\u001B[0m pm[\u001B[39m'\u001B[39m\u001B[39minput_neurons\u001B[39m\u001B[39m'\u001B[39m] \u001B[39m=\u001B[39m \u001B[39m'\u001B[39m\u001B[39mhub\u001B[39m\u001B[39m'\u001B[39m\n\u001B[0;32m---> 24\u001B[0m esn \u001B[39m=\u001B[39m HubESN(\u001B[39m*\u001B[39;49m\u001B[39m*\u001B[39;49mpm)\n\u001B[1;32m     25\u001B[0m esn\u001B[39m.\u001B[39mfit(task\u001B[39m.\u001B[39mX_train, task\u001B[39m.\u001B[39my_train)\n\u001B[1;32m     26\u001B[0m y_pred, _ \u001B[39m=\u001B[39m esn\u001B[39m.\u001B[39mpredict(task\u001B[39m.\u001B[39mX_test \u001B[39m+\u001B[39m noise)\n",
      "File \u001B[0;32m~/Library/Mobile Documents/com~apple~CloudDocs/NIPS_2023/Codes/HubESN_neurips/experiments/../esn_lib/hubesn.py:26\u001B[0m, in \u001B[0;36mHubESN.__init__\u001B[0;34m(self, **kwargs)\u001B[0m\n\u001B[1;32m     23\u001B[0m \u001B[39mself\u001B[39m\u001B[39m.\u001B[39m_generate_wir()\n\u001B[1;32m     24\u001B[0m \u001B[39mself\u001B[39m\u001B[39m.\u001B[39m_generate_wir_mask()\n\u001B[0;32m---> 26\u001B[0m \u001B[39mself\u001B[39;49m\u001B[39m.\u001B[39;49m_apply_spec_rad()\n",
      "File \u001B[0;32m~/Library/Mobile Documents/com~apple~CloudDocs/NIPS_2023/Codes/HubESN_neurips/experiments/../esn_lib/esn_base.py:161\u001B[0m, in \u001B[0;36mESNBase._apply_spec_rad\u001B[0;34m(self)\u001B[0m\n\u001B[1;32m    157\u001B[0m \u001B[39m\u001B[39m\u001B[39m\"\"\"\u001B[39;00m\n\u001B[1;32m    158\u001B[0m \u001B[39mSet the spectral radius of the recurrent weight matrix\u001B[39;00m\n\u001B[1;32m    159\u001B[0m \u001B[39m\"\"\"\u001B[39;00m\n\u001B[1;32m    160\u001B[0m \u001B[39m# set the spectral radius\u001B[39;00m\n\u001B[0;32m--> 161\u001B[0m \u001B[39mif\u001B[39;00m \u001B[39mself\u001B[39m\u001B[39m.\u001B[39mspec_rad \u001B[39m!=\u001B[39m \u001B[39m-\u001B[39m\u001B[39m1\u001B[39m: \u001B[39mself\u001B[39m\u001B[39m.\u001B[39mW_rc \u001B[39m=\u001B[39m \u001B[39mself\u001B[39m\u001B[39m.\u001B[39mW_rc \u001B[39m*\u001B[39m \u001B[39mself\u001B[39m\u001B[39m.\u001B[39mspec_rad \u001B[39m/\u001B[39m np\u001B[39m.\u001B[39mmax(np\u001B[39m.\u001B[39mabs(np\u001B[39m.\u001B[39;49mlinalg\u001B[39m.\u001B[39;49meigvals(\u001B[39mself\u001B[39;49m\u001B[39m.\u001B[39;49mW_rc)))\n",
      "File \u001B[0;32m<__array_function__ internals>:200\u001B[0m, in \u001B[0;36meigvals\u001B[0;34m(*args, **kwargs)\u001B[0m\n",
      "File \u001B[0;32m/Library/Frameworks/Python.framework/Versions/3.11/lib/python3.11/site-packages/numpy/linalg/linalg.py:1049\u001B[0m, in \u001B[0;36meigvals\u001B[0;34m(a)\u001B[0m\n\u001B[1;32m   1046\u001B[0m extobj \u001B[39m=\u001B[39m get_linalg_error_extobj(\n\u001B[1;32m   1047\u001B[0m     _raise_linalgerror_eigenvalues_nonconvergence)\n\u001B[1;32m   1048\u001B[0m signature \u001B[39m=\u001B[39m \u001B[39m'\u001B[39m\u001B[39mD->D\u001B[39m\u001B[39m'\u001B[39m \u001B[39mif\u001B[39;00m isComplexType(t) \u001B[39melse\u001B[39;00m \u001B[39m'\u001B[39m\u001B[39md->D\u001B[39m\u001B[39m'\u001B[39m\n\u001B[0;32m-> 1049\u001B[0m w \u001B[39m=\u001B[39m _umath_linalg\u001B[39m.\u001B[39;49meigvals(a, signature\u001B[39m=\u001B[39;49msignature, extobj\u001B[39m=\u001B[39;49mextobj)\n\u001B[1;32m   1051\u001B[0m \u001B[39mif\u001B[39;00m \u001B[39mnot\u001B[39;00m isComplexType(t):\n\u001B[1;32m   1052\u001B[0m     \u001B[39mif\u001B[39;00m \u001B[39mall\u001B[39m(w\u001B[39m.\u001B[39mimag \u001B[39m==\u001B[39m \u001B[39m0\u001B[39m):\n",
      "\u001B[0;31mKeyboardInterrupt\u001B[0m: "
     ]
    }
   ],
   "source": [
    "n_trains = np.arange(4500, 4501, 100)\n",
    "n_test = 2000\n",
    "repeat = 100\n",
    "for nt in n_trains:\n",
    "    task_name = 'mackey'\n",
    "    # peri_prev = np.load(f'../results/{task_name}/n_train_peri_1000/hubesn_rmse_{nt}.npy')\n",
    "    # rand_prev = np.load(f'../results/{task_name}/n_train_rand_1000/hubesn_rmse_{nt}.npy')\n",
    "    # hub_prev = np.load(f'../results/{task_name}/n_train_hub_1000/hubesn_rmse_{nt}.npy')\n",
    "    # esn_prev = np.load(f'../results/{task_name}/n_train_peri_1000/esn_rmse_{nt}.npy')\n",
    "    print(f'Start training... {nt}')\n",
    "\n",
    "    task_pm = {\n",
    "        'n_train': nt,\n",
    "        'n_test': n_test,\n",
    "    }\n",
    "    task = MackeyGlass(**task_pm)\n",
    "    hubesn_rmse, rand_rmse, peri_rmse, esn_rmse = [], [], [], []\n",
    "    for i in range(repeat):\n",
    "        noise = np.zeros((n_test, 1))\n",
    "        noise[0] = 0.05\n",
    "        pm = params.copy()\n",
    "\n",
    "        pm['input_neurons'] = 'hub'\n",
    "        esn = HubESN(**pm)\n",
    "        esn.fit(task.X_train, task.y_train)\n",
    "        y_pred, _ = esn.predict(task.X_test + noise)\n",
    "        hubesn_rmse.append(task.rmse(y_pred, task.y_test))\n",
    "\n",
    "        pm['input_neurons'] = 'rand'\n",
    "        esn = HubESN(**pm)\n",
    "        esn.fit(task.X_train, task.y_train)\n",
    "        y_pred, _ = esn.predict(task.X_test + noise)\n",
    "        rand_rmse.append(task.rmse(y_pred, task.y_test))\n",
    "\n",
    "        # pm['input_neurons'] = 'peri'\n",
    "        # esn = HubESN(**pm)\n",
    "        # esn.fit(task.X_train, task.y_train)\n",
    "        # y_pred, _ = esn.predict(task.X_test)\n",
    "        # peri_rmse.append(task.rmse(y_pred, task.y_test))\n",
    "\n",
    "        pm['input_neurons'] = 'rand'\n",
    "        esn = ESN(**pm)\n",
    "        esn.fit(task.X_train, task.y_train)\n",
    "        y_pred, _ = esn.predict(task.X_test + noise)\n",
    "        esn_rmse.append(task.rmse(y_pred, task.y_test))\n",
    "\n",
    "        print(f'{i+1}, ESN: {esn_rmse[-1]:.8f}, HubESN: {hubesn_rmse[-1]:.8f}, RandESN: {rand_rmse[-1]:.8f}')\n",
    "        \n",
    "    # peri_rmse = np.concatenate([peri_prev, np.array(peri_rmse)])\n",
    "    # rand_rmse = np.concatenate([rand_prev, np.array(rand_rmse)])\n",
    "    # hubesn_rmse = np.concatenate([hub_prev, np.array(hubesn_rmse)])\n",
    "    # esn_rmse = np.concatenate([esn_prev, np.array(esn_rmse)])\n",
    "\n",
    "    rand_rmse = np.array(rand_rmse)\n",
    "    hubesn_rmse = np.array(hubesn_rmse)\n",
    "    esn_rmse = np.array(esn_rmse)\n",
    "    print(nt, 'done', rand_rmse.shape, hubesn_rmse.shape, esn_rmse.shape)\n",
    "\n",
    "    np.save(f\"../results/{task_name}/n_train_rand_{pm['n_size']}/hubesn_rmse_{nt}.npy\", rand_rmse)\n",
    "    np.save(f\"../results/{task_name}/n_train_hub_{pm['n_size']}/hubesn_rmse_{nt}.npy\", hubesn_rmse) \n",
    "    np.save(f\"../results/{task_name}/n_train_rand_{pm['n_size']}/esn_rmse_{nt}.npy\", esn_rmse)\n",
    "    np.save(f\"../results/{task_name}/n_train_hub_{pm['n_size']}/esn_rmse_{nt}.npy\", esn_rmse)"
   ]
  },
  {
   "cell_type": "code",
   "execution_count": 45,
   "metadata": {},
   "outputs": [
    {
     "name": "stdout",
     "output_type": "stream",
     "text": [
      "600 (10,) (10,) (10,) (10,)\n",
      "700 (10,) (10,) (10,) (10,)\n",
      "800 (10,) (10,) (10,) (10,)\n",
      "900 (10,) (10,) (10,) (10,)\n",
      "1000 (10,) (10,) (10,) (10,)\n",
      "1100 (10,) (10,) (10,) (10,)\n",
      "1200 (10,) (10,) (10,) (10,)\n",
      "1300 (10,) (10,) (10,) (10,)\n",
      "1400 (10,) (10,) (10,) (10,)\n",
      "1500 (10,) (10,) (10,) (10,)\n",
      "1600 (10,) (10,) (10,) (10,)\n",
      "1700 (10,) (10,) (10,) (10,)\n",
      "1800 (10,) (10,) (10,) (10,)\n",
      "1900 (10,) (10,) (10,) (10,)\n",
      "2000 (10,) (10,) (10,) (10,)\n",
      "2100 (10,) (10,) (10,) (10,)\n",
      "2200 (10,) (10,) (10,) (10,)\n",
      "2300 (10,) (10,) (10,) (10,)\n",
      "2400 (10,) (10,) (10,) (10,)\n",
      "2500 (10,) (10,) (10,) (10,)\n",
      "2600 (10,) (10,) (10,) (10,)\n",
      "2700 (10,) (10,) (10,) (10,)\n",
      "2800 (10,) (10,) (10,) (10,)\n",
      "2900 (10,) (10,) (10,) (10,)\n",
      "3000 (10,) (10,) (10,) (10,)\n",
      "3100 (10,) (10,) (10,) (10,)\n"
     ]
    }
   ],
   "source": [
    "n_trains = np.arange(600, 3200, 100)\n",
    "for nt in n_trains:\n",
    "    task_name = 'mackey'\n",
    "    # append to previous results\n",
    "    peri_prev = np.load(f'../results/{task_name}/n_train_peri_1000/hubesn_rmse_{nt}.npy')\n",
    "    rand_prev = np.load(f'../results/{task_name}/n_train_rand_1000/hubesn_rmse_{nt}.npy')\n",
    "    hub_prev = np.load(f'../results/{task_name}/n_train_hub_1000/hubesn_rmse_{nt}.npy')\n",
    "    esn_prev = np.load(f'../results/{task_name}/n_train_peri_1000/esn_rmse_{nt}.npy')\n",
    "\n",
    "    # remove last 10 results\n",
    "    peri_rmse = peri_prev[:10]\n",
    "    rand_rmse = rand_prev[:10]\n",
    "    hubesn_rmse = hub_prev[:10]\n",
    "    esn_rmse = esn_prev[:10]\n",
    "    print(peri_rmse)\n",
    "\n",
    "    print(nt, peri_rmse.shape, rand_rmse.shape, hubesn_rmse.shape, esn_rmse.shape)\n",
    "\n",
    "    np.save(f'../results/{task_name}/n_train_peri_1000/hubesn_rmse_{nt}.npy', peri_rmse)\n",
    "    np.save(f'../results/{task_name}/n_train_rand_1000/hubesn_rmse_{nt}.npy', rand_rmse)\n",
    "    np.save(f'../results/{task_name}/n_train_hub_1000/hubesn_rmse_{nt}.npy', hubesn_rmse)\n",
    "    np.save(f'../results/{task_name}/n_train_peri_1000/esn_rmse_{nt}.npy', esn_rmse)\n",
    "    np.save(f'../results/{task_name}/n_train_rand_1000/esn_rmse_{nt}.npy', esn_rmse)\n",
    "    np.save(f'../results/{task_name}/n_train_hub_1000/esn_rmse_{nt}.npy', esn_rmse)"
   ]
  },
  {
   "cell_type": "code",
   "execution_count": 21,
   "metadata": {},
   "outputs": [],
   "source": [
    "a = np.load(f'../results/{task_name}/n_train_peri_1000/hubesn_rmse_{nt}.npy')"
   ]
  },
  {
   "cell_type": "code",
   "execution_count": 22,
   "metadata": {},
   "outputs": [
    {
     "data": {
      "text/plain": [
       "(20,)"
      ]
     },
     "execution_count": 22,
     "metadata": {},
     "output_type": "execute_result"
    }
   ],
   "source": [
    "a.shape"
   ]
  },
  {
   "cell_type": "code",
   "execution_count": null,
   "metadata": {},
   "outputs": [],
   "source": []
  }
 ],
 "metadata": {
  "kernelspec": {
   "display_name": "Python 3",
   "language": "python",
   "name": "python3"
  },
  "language_info": {
   "codemirror_mode": {
    "name": "ipython",
    "version": 3
   },
   "file_extension": ".py",
   "mimetype": "text/x-python",
   "name": "python",
   "nbconvert_exporter": "python",
   "pygments_lexer": "ipython3",
   "version": "3.11.2"
  },
  "orig_nbformat": 4
 },
 "nbformat": 4,
 "nbformat_minor": 2
}
