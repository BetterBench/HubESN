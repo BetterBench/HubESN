{
 "cells": [
  {
   "cell_type": "code",
   "execution_count": 8,
   "metadata": {
    "ExecuteTime": {
     "end_time": "2024-04-04T01:37:58.225364100Z",
     "start_time": "2024-04-04T01:37:58.021298200Z"
    }
   },
   "outputs": [
    {
     "name": "stdout",
     "output_type": "stream",
     "text": [
      "The autoreload extension is already loaded. To reload it, use:\n",
      "  %reload_ext autoreload\n"
     ]
    }
   ],
   "source": [
    "%load_ext autoreload\n",
    "%autoreload 2\n",
    "\n",
    "import sys\n",
    "sys.path.append('../')\n",
    "\n",
    "import seaborn as sns\n",
    "import matplotlib.pyplot as plt\n",
    "import numpy as np\n",
    "\n",
    "from esn_lib.esn import *\n",
    "from esn_lib.hubesn import *\n",
    "from esn_tasks.mnist.mnist_28 import *\n",
    "from esn_tasks.mnist.mnist_784 import *"
   ]
  },
  {
   "cell_type": "code",
   "execution_count": 12,
   "metadata": {
    "ExecuteTime": {
     "end_time": "2024-04-04T01:38:53.746867400Z",
     "start_time": "2024-04-04T01:38:53.543195Z"
    }
   },
   "outputs": [],
   "source": [
    "task_pm = {\n",
    "    'n_train': 1000,\n",
    "    'n_test': 2000,\n",
    "}\n",
    "\n",
    "# mnist = MNIST28(task_pm)"
   ]
  },
  {
   "cell_type": "code",
   "execution_count": 13,
   "metadata": {
    "ExecuteTime": {
     "end_time": "2024-04-04T01:39:00.102673700Z",
     "start_time": "2024-04-04T01:38:59.939516Z"
    }
   },
   "outputs": [],
   "source": [
    "mode = 'hub'\n",
    "EXPTPATH = f'../results/mnist/n_train_{mode}'\n",
    "PLTPATH = f'../plots/mnist'\n",
    "params = {\n",
    "    'lr': 0.5,\n",
    "    'p2': 0.2,\n",
    "    'r_sig': 0.1,\n",
    "    'n_size': 500,\n",
    "    'spec_rad': 0.9,\n",
    "    'in_features': 1,\n",
    "    'in_scale': 1,\n",
    "    'activation': 'tanh',\n",
    "    'input_neurons': mode,\n",
    "    'hub_type': 'mix',\n",
    "    'use_skip': False,\n",
    "    'verbose': False,\n",
    "    'lambda_dc': 0.5,\n",
    "    'lambda_sc': 0.5,\n",
    "    'exp_coef': 2,\n",
    "}"
   ]
  },
  {
   "cell_type": "code",
   "execution_count": 13,
   "metadata": {
    "ExecuteTime": {
     "end_time": "2023-10-23T09:18:10.415591300Z",
     "start_time": "2023-10-23T09:18:08.936801Z"
    }
   },
   "outputs": [
    {
     "ename": "ValueError",
     "evalue": "matmul: Input operand 1 has a mismatch in its core dimension 0, with gufunc signature (n?,k),(k,m?)->(n?,m?) (size 1 is different from 28)",
     "output_type": "error",
     "traceback": [
      "\u001B[1;31m---------------------------------------------------------------------------\u001B[0m",
      "\u001B[1;31mValueError\u001B[0m                                Traceback (most recent call last)",
      "Cell \u001B[1;32mIn[13], line 14\u001B[0m\n\u001B[0;32m     12\u001B[0m \u001B[38;5;28;01mfor\u001B[39;00m i \u001B[38;5;129;01min\u001B[39;00m \u001B[38;5;28mrange\u001B[39m(repeat):\n\u001B[0;32m     13\u001B[0m     esn \u001B[38;5;241m=\u001B[39m HubESN(\u001B[38;5;241m*\u001B[39m\u001B[38;5;241m*\u001B[39mparams)\n\u001B[1;32m---> 14\u001B[0m     \u001B[43mesn\u001B[49m\u001B[38;5;241;43m.\u001B[39;49m\u001B[43mfit\u001B[49m\u001B[43m(\u001B[49m\u001B[43mtask\u001B[49m\u001B[38;5;241;43m.\u001B[39;49m\u001B[43mX_train\u001B[49m\u001B[43m,\u001B[49m\u001B[43m \u001B[49m\u001B[43mtask\u001B[49m\u001B[38;5;241;43m.\u001B[39;49m\u001B[43my_train\u001B[49m\u001B[43m)\u001B[49m\n",
      "File \u001B[1;32mE:\\LiuMeng\\Code_HubESN\\HubESN\\esn_lib\\esn_base.py:209\u001B[0m, in \u001B[0;36mESNBase.fit\u001B[1;34m(self, inputs, labels)\u001B[0m\n\u001B[0;32m    204\u001B[0m states \u001B[38;5;241m=\u001B[39m np\u001B[38;5;241m.\u001B[39mzeros((inputs\u001B[38;5;241m.\u001B[39mshape[\u001B[38;5;241m0\u001B[39m], \u001B[38;5;28mself\u001B[39m\u001B[38;5;241m.\u001B[39mn_size))\n\u001B[0;32m    205\u001B[0m \u001B[38;5;28;01mfor\u001B[39;00m n \u001B[38;5;129;01min\u001B[39;00m tqdm(\u001B[38;5;28mrange\u001B[39m(inputs\u001B[38;5;241m.\u001B[39mshape[\u001B[38;5;241m0\u001B[39m]),\n\u001B[0;32m    206\u001B[0m               desc\u001B[38;5;241m=\u001B[39m\u001B[38;5;124m\"\u001B[39m\u001B[38;5;124mTraining…\u001B[39m\u001B[38;5;124m\"\u001B[39m,\n\u001B[0;32m    207\u001B[0m               ascii\u001B[38;5;241m=\u001B[39m\u001B[38;5;28;01mFalse\u001B[39;00m, ncols\u001B[38;5;241m=\u001B[39m\u001B[38;5;241m75\u001B[39m,\n\u001B[0;32m    208\u001B[0m               disable\u001B[38;5;241m=\u001B[39m\u001B[38;5;129;01mnot\u001B[39;00m \u001B[38;5;28mself\u001B[39m\u001B[38;5;241m.\u001B[39mverbose):\n\u001B[1;32m--> 209\u001B[0m     states[n, :] \u001B[38;5;241m=\u001B[39m \u001B[38;5;28;43mself\u001B[39;49m\u001B[38;5;241;43m.\u001B[39;49m\u001B[43m_update\u001B[49m\u001B[43m(\u001B[49m\u001B[43mstates\u001B[49m\u001B[43m[\u001B[49m\u001B[43mn\u001B[49m\u001B[43m \u001B[49m\u001B[38;5;241;43m-\u001B[39;49m\u001B[43m \u001B[49m\u001B[38;5;241;43m1\u001B[39;49m\u001B[43m]\u001B[49m\u001B[38;5;241;43m.\u001B[39;49m\u001B[43mreshape\u001B[49m\u001B[43m(\u001B[49m\u001B[38;5;241;43m1\u001B[39;49m\u001B[43m,\u001B[49m\u001B[43m \u001B[49m\u001B[38;5;241;43m-\u001B[39;49m\u001B[38;5;241;43m1\u001B[39;49m\u001B[43m)\u001B[49m\u001B[43m,\u001B[49m\u001B[43m \u001B[49m\u001B[43minputs\u001B[49m\u001B[43m[\u001B[49m\u001B[43mn\u001B[49m\u001B[43m,\u001B[49m\u001B[43m:\u001B[49m\u001B[43m]\u001B[49m\u001B[38;5;241;43m.\u001B[39;49m\u001B[43mreshape\u001B[49m\u001B[43m(\u001B[49m\u001B[38;5;241;43m1\u001B[39;49m\u001B[43m,\u001B[49m\u001B[43m \u001B[49m\u001B[38;5;241;43m-\u001B[39;49m\u001B[38;5;241;43m1\u001B[39;49m\u001B[43m)\u001B[49m\u001B[43m)\u001B[49m\n\u001B[0;32m    211\u001B[0m transient \u001B[38;5;241m=\u001B[39m \u001B[38;5;28mmin\u001B[39m(\u001B[38;5;28mint\u001B[39m(inputs\u001B[38;5;241m.\u001B[39mshape[\u001B[38;5;241m0\u001B[39m] \u001B[38;5;241m/\u001B[39m \u001B[38;5;241m10\u001B[39m), \u001B[38;5;241m100\u001B[39m)\n\u001B[0;32m    212\u001B[0m states_stack \u001B[38;5;241m=\u001B[39m np\u001B[38;5;241m.\u001B[39mhstack((states, inputs)) \u001B[38;5;28;01mif\u001B[39;00m \u001B[38;5;28mself\u001B[39m\u001B[38;5;241m.\u001B[39muse_skip \u001B[38;5;28;01melse\u001B[39;00m states\n",
      "File \u001B[1;32mE:\\LiuMeng\\Code_HubESN\\HubESN\\esn_lib\\esn_base.py:178\u001B[0m, in \u001B[0;36mESNBase._update\u001B[1;34m(self, state, inputs)\u001B[0m\n\u001B[0;32m    171\u001B[0m \u001B[38;5;28;01mdef\u001B[39;00m \u001B[38;5;21m_update\u001B[39m(\u001B[38;5;28mself\u001B[39m, state, inputs):\n\u001B[0;32m    172\u001B[0m \u001B[38;5;250m    \u001B[39m\u001B[38;5;124;03m\"\"\"\u001B[39;00m\n\u001B[0;32m    173\u001B[0m \u001B[38;5;124;03m    Update the state of the network\u001B[39;00m\n\u001B[0;32m    174\u001B[0m \u001B[38;5;124;03m    params:\u001B[39;00m\n\u001B[0;32m    175\u001B[0m \u001B[38;5;124;03m        state: previous state of the network, shape: (n_size,)\u001B[39;00m\n\u001B[0;32m    176\u001B[0m \u001B[38;5;124;03m        inputs: input data, shape: (in_features,)\u001B[39;00m\n\u001B[0;32m    177\u001B[0m \u001B[38;5;124;03m    \"\"\"\u001B[39;00m\n\u001B[1;32m--> 178\u001B[0m     preactivation \u001B[38;5;241m=\u001B[39m state \u001B[38;5;241m@\u001B[39m \u001B[38;5;28mself\u001B[39m\u001B[38;5;241m.\u001B[39mW_rc\u001B[38;5;241m.\u001B[39mT \u001B[38;5;241m+\u001B[39m \u001B[38;5;28;43mself\u001B[39;49m\u001B[38;5;241;43m.\u001B[39;49m\u001B[43min_scale\u001B[49m\u001B[43m \u001B[49m\u001B[38;5;241;43m*\u001B[39;49m\u001B[43m \u001B[49m\u001B[43minputs\u001B[49m\u001B[43m \u001B[49m\u001B[38;5;241;43m@\u001B[39;49m\u001B[43m \u001B[49m\u001B[38;5;28;43mself\u001B[39;49m\u001B[38;5;241;43m.\u001B[39;49m\u001B[43mW_ir\u001B[49m\u001B[38;5;241;43m.\u001B[39;49m\u001B[43mT\u001B[49m\n\u001B[0;32m    179\u001B[0m     state \u001B[38;5;241m=\u001B[39m (\u001B[38;5;241m1\u001B[39m \u001B[38;5;241m-\u001B[39m \u001B[38;5;28mself\u001B[39m\u001B[38;5;241m.\u001B[39mlr) \u001B[38;5;241m*\u001B[39m state \u001B[38;5;241m+\u001B[39m \u001B[38;5;28mself\u001B[39m\u001B[38;5;241m.\u001B[39mlr \u001B[38;5;241m*\u001B[39m \u001B[38;5;28mself\u001B[39m\u001B[38;5;241m.\u001B[39mact(preactivation)\n\u001B[0;32m    180\u001B[0m     \u001B[38;5;28;01mreturn\u001B[39;00m state\n",
      "\u001B[1;31mValueError\u001B[0m: matmul: Input operand 1 has a mismatch in its core dimension 0, with gufunc signature (n?,k),(k,m?)->(n?,m?) (size 1 is different from 28)"
     ]
    }
   ],
   "source": [
    "n_trains = np.linspace(5000, 15000, 3, dtype=int)\n",
    "n_test = 2000\n",
    "repeat = 10\n",
    "for nt in n_trains:\n",
    "    task_pm = {\n",
    "        'n_train': nt,\n",
    "        'n_test': n_test,\n",
    "    }\n",
    "    # task = MNIST28(**task_pm)\n",
    "    task = MNIST784(task_pm)\n",
    "    hubesn_rmse, hubesn_pred = [], []\n",
    "    esn_rmse, esn_pred = [], []\n",
    "    for i in range(repeat):\n",
    "        esn = HubESN(**params)\n",
    "        esn.fit(task.X_train, task.y_train)\n",
    "    #     y_pred, _ = esn.predict(task.X_test)\n",
    "    #     hubesn_pred.append(y_pred)\n",
    "    #     hubesn_rmse.append(task.rmse(y_pred, task.y_test))\n",
    "    # \n",
    "    #     esn = ESN(**params)\n",
    "    #     esn.fit(task.X_train, task.y_train)\n",
    "    #     y_pred, _ = esn.predict(task.X_test)\n",
    "    #     esn_pred.append(y_pred)\n",
    "    #     esn_rmse.append(task.rmse(y_pred, task.y_test))\n",
    "    #     \n",
    "    # np.save(f'{EXPTPATH}/hubesn_rmse_{nt}.npy', np.array(hubesn_rmse))\n",
    "    # np.save(f'{EXPTPATH}/hubesn_pred_{nt}.npy', np.array(hubesn_pred))\n",
    "    # np.save(f'{EXPTPATH}/esn_rmse_{nt}.npy', np.array(esn_rmse))\n",
    "    # np.save(f'{EXPTPATH}/esn_pred_{nt}.npy', np.array(esn_pred))\n",
    "    # np.save(f'{EXPTPATH}/y_test_{nt}.npy', task.y_test)"
   ]
  },
  {
   "cell_type": "code",
   "execution_count": 14,
   "metadata": {
    "ExecuteTime": {
     "end_time": "2024-04-04T01:45:55.456994900Z",
     "start_time": "2024-04-04T01:39:03.390573500Z"
    }
   },
   "outputs": [
    {
     "name": "stdout",
     "output_type": "stream",
     "text": [
      "0.525\n"
     ]
    }
   ],
   "source": [
    "task = MNIST784(task_pm)\n",
    "hubesn = HubESN(**params)\n",
    "hubesn.fit(task.X_train, task.y_train)\n",
    "y_pred, _ = hubesn.predict(task.X_test)\n",
    "print(task.eval(y_pred, task.y_test))"
   ]
  },
  {
   "cell_type": "code",
   "execution_count": 15,
   "outputs": [
    {
     "data": {
      "text/plain": "(784000, 1)"
     },
     "execution_count": 15,
     "metadata": {},
     "output_type": "execute_result"
    }
   ],
   "source": [
    "task.X_train.shape"
   ],
   "metadata": {
    "collapsed": false,
    "ExecuteTime": {
     "end_time": "2024-04-04T01:48:34.222965100Z",
     "start_time": "2024-04-04T01:48:33.586608300Z"
    }
   }
  },
  {
   "cell_type": "code",
   "execution_count": 16,
   "outputs": [
    {
     "data": {
      "text/plain": "(784000, 10)"
     },
     "execution_count": 16,
     "metadata": {},
     "output_type": "execute_result"
    }
   ],
   "source": [
    "task.y_train.shape"
   ],
   "metadata": {
    "collapsed": false,
    "ExecuteTime": {
     "end_time": "2024-04-04T01:48:51.133441700Z",
     "start_time": "2024-04-04T01:48:50.979717900Z"
    }
   }
  },
  {
   "cell_type": "code",
   "execution_count": 14,
   "metadata": {},
   "outputs": [
    {
     "name": "stdout",
     "output_type": "stream",
     "text": [
      "0.47\n"
     ]
    }
   ],
   "source": [
    "esn = ESN(**params)\n",
    "esn.fit(task.X_train, task.y_train)\n",
    "y_pred, _ = esn.predict(task.X_test)\n",
    "print(task.eval(y_pred, task.y_test))"
   ]
  },
  {
   "cell_type": "code",
   "execution_count": null,
   "metadata": {},
   "outputs": [],
   "source": []
  }
 ],
 "metadata": {
  "kernelspec": {
   "display_name": "Python 3",
   "language": "python",
   "name": "python3"
  },
  "language_info": {
   "codemirror_mode": {
    "name": "ipython",
    "version": 3
   },
   "file_extension": ".py",
   "mimetype": "text/x-python",
   "name": "python",
   "nbconvert_exporter": "python",
   "pygments_lexer": "ipython3",
   "version": "3.11.2"
  },
  "orig_nbformat": 4.0
 },
 "nbformat": 4,
 "nbformat_minor": 2
}
