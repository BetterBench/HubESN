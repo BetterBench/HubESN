{
 "cells": [
  {
   "cell_type": "code",
   "execution_count": 19,
   "metadata": {},
   "outputs": [
    {
     "name": "stdout",
     "output_type": "stream",
     "text": [
      "The autoreload extension is already loaded. To reload it, use:\n",
      "  %reload_ext autoreload\n"
     ]
    }
   ],
   "source": [
    "%load_ext autoreload\n",
    "%autoreload 2\n",
    "\n",
    "import sys\n",
    "sys.path.append('../')\n",
    "\n",
    "import numpy as np\n",
    "import seaborn as sns\n",
    "import matplotlib.pyplot as plt\n",
    "from sklearn.manifold import TSNE\n",
    "from mpl_toolkits.axes_grid1.inset_locator import zoomed_inset_axes, inset_axes, mark_inset\n",
    "\n",
    "from esn_lib.esn import *\n",
    "from esn_lib.hubesn import *\n",
    "from esn_tasks.lorenz.lorenz import *"
   ]
  },
  {
   "cell_type": "code",
   "execution_count": 24,
   "metadata": {},
   "outputs": [],
   "source": [
    "mode = 'rand'\n",
    "\n",
    "EXPTPATH = f'../results/lorenz/n_train_{mode}'\n",
    "# PLTPATH = f'../plots/lorenz'\n",
    "PLTPATH = f'../testplots/lorenz'\n",
    "params = {\n",
    "    'lr': 0.5,\n",
    "    'p2': 0.2,\n",
    "    'r_sig': 0.1,\n",
    "    'n_size': 500,\n",
    "    'spec_rad': 0.9,\n",
    "    'in_features': 3,\n",
    "    'in_scale': 1,\n",
    "    'activation': 'tanh',\n",
    "    'input_neurons': mode,\n",
    "    'hub_type': 'mix',\n",
    "    'use_skip': False,\n",
    "    'verbose': False,\n",
    "    'lambda_dc': 0.5,\n",
    "    'lambda_sc': 0.5,\n",
    "    'exp_coef': 2,\n",
    "}"
   ]
  },
  {
   "cell_type": "code",
   "execution_count": 2,
   "outputs": [
    {
     "data": {
      "text/plain": "array([ 80, 100, 120, 140, 160, 180, 200, 220, 240, 260, 280])"
     },
     "execution_count": 2,
     "metadata": {},
     "output_type": "execute_result"
    }
   ],
   "source": [
    "import numpy as np\n",
    "np.arange(80, 300, 20)"
   ],
   "metadata": {
    "collapsed": false,
    "ExecuteTime": {
     "end_time": "2023-11-08T01:53:00.630427200Z",
     "start_time": "2023-11-08T01:53:00.614689200Z"
    }
   }
  },
  {
   "cell_type": "code",
   "execution_count": 25,
   "metadata": {},
   "outputs": [
    {
     "name": "stdout",
     "output_type": "stream",
     "text": [
      "inputs (7999, 3)\n",
      "targets (7999, 3)\n",
      "inputs (9999, 3)\n",
      "targets (9999, 3)\n",
      "inputs (11999, 3)\n",
      "targets (11999, 3)\n",
      "inputs (13999, 3)\n",
      "targets (13999, 3)\n",
      "inputs (15999, 3)\n",
      "targets (15999, 3)\n",
      "inputs (17999, 3)\n",
      "targets (17999, 3)\n",
      "inputs (19999, 3)\n",
      "targets (19999, 3)\n",
      "inputs (21999, 3)\n",
      "targets (21999, 3)\n",
      "inputs (23999, 3)\n",
      "targets (23999, 3)\n",
      "inputs (25999, 3)\n",
      "targets (25999, 3)\n",
      "inputs (27999, 3)\n",
      "targets (27999, 3)\n"
     ]
    }
   ],
   "source": [
    "n_trains = np.arange(80, 300, 20)\n",
    "repeat = 50\n",
    "for nt in n_trains:\n",
    "    task_pm = {\n",
    "        'T': nt,\n",
    "        'ratio': 0.8,\n",
    "    }\n",
    "    task = Lorenz(**task_pm)\n",
    "    hubesn_rmse, esn_rmse = [], []\n",
    "    for i in range(repeat):\n",
    "        esn = HubESN(**params)\n",
    "        esn.fit(task.X_train, task.y_train)\n",
    "        y_pred, _ = esn.predict(task.X_test)\n",
    "        hubesn_rmse.append(task.rmse(y_pred, task.y_test))\n",
    "\n",
    "        esn = ESN(**params)\n",
    "        esn.fit(task.X_train, task.y_train)\n",
    "        y_pred, _ = esn.predict(task.X_test)\n",
    "        esn_rmse.append(task.rmse(y_pred, task.y_test))\n",
    "        \n",
    "    np.save(f'{EXPTPATH}/hubesn_rmse_{nt}.npy', np.array(hubesn_rmse))\n",
    "    np.save(f'{EXPTPATH}/esn_rmse_{nt}.npy', np.array(esn_rmse))"
   ]
  },
  {
   "cell_type": "code",
   "execution_count": 26,
   "metadata": {},
   "outputs": [],
   "source": [
    "mode = 'hub'\n",
    "\n",
    "EXPTPATH = f'../results/lorenz/n_train_{mode}'\n",
    "PLTPATH = f'../plots/lorenz'\n",
    "params = {\n",
    "    'lr': 0.5,\n",
    "    'p2': 0.2,\n",
    "    'r_sig': 0.1,\n",
    "    'n_size': 500,\n",
    "    'spec_rad': 0.9,\n",
    "    'in_features': 3,\n",
    "    'in_scale': 1,\n",
    "    'activation': 'tanh',\n",
    "    'input_neurons': mode,\n",
    "    'hub_type': 'mix',\n",
    "    'use_skip': False,\n",
    "    'verbose': False,\n",
    "    'lambda_dc': 0.5,\n",
    "    'lambda_sc': 0.5,\n",
    "    'exp_coef': 2,\n",
    "}"
   ]
  },
  {
   "cell_type": "code",
   "execution_count": 27,
   "metadata": {},
   "outputs": [
    {
     "name": "stdout",
     "output_type": "stream",
     "text": [
      "inputs (7999, 3)\n",
      "targets (7999, 3)\n",
      "inputs (9999, 3)\n",
      "targets (9999, 3)\n",
      "inputs (11999, 3)\n",
      "targets (11999, 3)\n",
      "inputs (13999, 3)\n",
      "targets (13999, 3)\n",
      "inputs (15999, 3)\n",
      "targets (15999, 3)\n",
      "inputs (17999, 3)\n",
      "targets (17999, 3)\n",
      "inputs (19999, 3)\n",
      "targets (19999, 3)\n",
      "inputs (21999, 3)\n",
      "targets (21999, 3)\n",
      "inputs (23999, 3)\n",
      "targets (23999, 3)\n",
      "inputs (25999, 3)\n",
      "targets (25999, 3)\n",
      "inputs (27999, 3)\n",
      "targets (27999, 3)\n"
     ]
    }
   ],
   "source": [
    "n_trains = np.arange(80, 300, 20)\n",
    "repeat = 50\n",
    "for nt in n_trains:\n",
    "    task_pm = {\n",
    "        'T': nt,\n",
    "        'ratio': 0.8,\n",
    "    }\n",
    "    task = Lorenz(**task_pm)\n",
    "    hubesn_rmse, esn_rmse = [], []\n",
    "    for i in range(repeat):\n",
    "        esn = HubESN(**params)\n",
    "        esn.fit(task.X_train, task.y_train)\n",
    "        y_pred, _ = esn.predict(task.X_test)\n",
    "        hubesn_rmse.append(task.rmse(y_pred, task.y_test))\n",
    "\n",
    "        esn = ESN(**params)\n",
    "        esn.fit(task.X_train, task.y_train)\n",
    "        y_pred, _ = esn.predict(task.X_test)\n",
    "        esn_rmse.append(task.rmse(y_pred, task.y_test))\n",
    "        \n",
    "    np.save(f'{EXPTPATH}/hubesn_rmse_{nt}.npy', np.array(hubesn_rmse))\n",
    "    np.save(f'{EXPTPATH}/esn_rmse_{nt}.npy', np.array(esn_rmse))"
   ]
  },
  {
   "cell_type": "code",
   "execution_count": 28,
   "metadata": {},
   "outputs": [],
   "source": [
    "mode = 'peri'\n",
    "\n",
    "EXPTPATH = f'../results/lorenz/n_train_{mode}'\n",
    "PLTPATH = f'../plots/lorenz'\n",
    "params = {\n",
    "    'lr': 0.5,\n",
    "    'p2': 0.2,\n",
    "    'r_sig': 0.1,\n",
    "    'n_size': 500,\n",
    "    'spec_rad': 0.9,\n",
    "    'in_features': 3,\n",
    "    'in_scale': 1,\n",
    "    'activation': 'tanh',\n",
    "    'input_neurons': mode,\n",
    "    'hub_type': 'mix',\n",
    "    'use_skip': False,\n",
    "    'verbose': False,\n",
    "    'lambda_dc': 0.5,\n",
    "    'lambda_sc': 0.5,\n",
    "    'exp_coef': 2,\n",
    "}"
   ]
  },
  {
   "cell_type": "code",
   "execution_count": 29,
   "metadata": {},
   "outputs": [
    {
     "name": "stdout",
     "output_type": "stream",
     "text": [
      "inputs (7999, 3)\n",
      "targets (7999, 3)\n",
      "inputs (9999, 3)\n",
      "targets (9999, 3)\n",
      "inputs (11999, 3)\n",
      "targets (11999, 3)\n",
      "inputs (13999, 3)\n",
      "targets (13999, 3)\n",
      "inputs (15999, 3)\n",
      "targets (15999, 3)\n",
      "inputs (17999, 3)\n",
      "targets (17999, 3)\n",
      "inputs (19999, 3)\n",
      "targets (19999, 3)\n",
      "inputs (21999, 3)\n",
      "targets (21999, 3)\n",
      "inputs (23999, 3)\n",
      "targets (23999, 3)\n",
      "inputs (25999, 3)\n",
      "targets (25999, 3)\n",
      "inputs (27999, 3)\n",
      "targets (27999, 3)\n"
     ]
    }
   ],
   "source": [
    "# n_trains = np.arange(80, 300, 20)\n",
    "# repeat = 50\n",
    "# for nt in n_trains:\n",
    "#     task_pm = {\n",
    "#         'T': nt,\n",
    "#         'ratio': 0.8,\n",
    "#     }\n",
    "#     task = Lorenz(**task_pm)\n",
    "#     hubesn_rmse, esn_rmse = [], []\n",
    "#     for i in range(repeat):\n",
    "#         esn = HubESN(**params)\n",
    "#         esn.fit(task.X_train, task.y_train)\n",
    "#         y_pred, _ = esn.predict(task.X_test)\n",
    "#         hubesn_rmse.append(task.rmse(y_pred, task.y_test))\n",
    "# \n",
    "#         esn = ESN(**params)\n",
    "#         esn.fit(task.X_train, task.y_train)\n",
    "#         y_pred, _ = esn.predict(task.X_test)\n",
    "#         esn_rmse.append(task.rmse(y_pred, task.y_test))\n",
    "#         \n",
    "#     np.save(f'{EXPTPATH}/hubesn_rmse_{nt}.npy', np.array(hubesn_rmse))\n",
    "#     np.save(f'{EXPTPATH}/esn_rmse_{nt}.npy', np.array(esn_rmse))"
   ]
  },
  {
   "cell_type": "code",
   "execution_count": null,
   "outputs": [],
   "source": [
    "n_trains = np.arange(80, 300, 20)\n",
    "repeat = 50\n",
    "for nt in n_trains:\n",
    "    task_pm = {\n",
    "        'T': nt,\n",
    "        'ratio': 0.8,\n",
    "    }\n",
    "    task = Lorenz(**task_pm)\n",
    "    hubesn_rmse, esn_rmse = [], []\n",
    "    for i in range(repeat):\n",
    "        esn = HubESN(**params)\n",
    "        esn.fit(task.X_train, task.y_train)\n",
    "        y_pred, _ = esn.predict(task.X_test)\n",
    "        hubesn_rmse.append(task.rmse(y_pred, task.y_test))\n",
    "\n",
    "        esn = ESN(**params)\n",
    "        esn.fit(task.X_train, task.y_train)\n",
    "        y_pred, _ = esn.predict(task.X_test)\n",
    "        esn_rmse.append(task.rmse(y_pred, task.y_test))\n",
    "        \n",
    "    np.save(f'{EXPTPATH}/hubesn_rmse_{nt}.npy', np.array(hubesn_rmse))\n",
    "    np.save(f'{EXPTPATH}/esn_rmse_{nt}.npy', np.array(esn_rmse))"
   ],
   "metadata": {
    "collapsed": false
   }
  },
  {
   "cell_type": "code",
   "execution_count": null,
   "metadata": {},
   "outputs": [],
   "source": []
  }
 ],
 "metadata": {
  "kernelspec": {
   "display_name": "Python 3",
   "language": "python",
   "name": "python3"
  },
  "language_info": {
   "codemirror_mode": {
    "name": "ipython",
    "version": 3
   },
   "file_extension": ".py",
   "mimetype": "text/x-python",
   "name": "python",
   "nbconvert_exporter": "python",
   "pygments_lexer": "ipython3",
   "version": "3.9.13"
  },
  "orig_nbformat": 4.0
 },
 "nbformat": 4,
 "nbformat_minor": 2
}
